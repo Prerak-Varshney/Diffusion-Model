{
 "cells": [
  {
   "cell_type": "code",
   "execution_count": null,
   "id": "58ee873c-8872-4dc0-97be-e5a7601fa85d",
   "metadata": {},
   "outputs": [],
   "source": [
    "#pip install tensorflow-macos==2.15.0 tensorflow-metal keras==2.15.0 keras-cv==0.6.0 keras-core==0.1.7\n",
    "#pip install tensorflow==2.15.0 keras==2.15.0 keras-cv==0.6.0 keras-core==0.1.7"
   ]
  },
  {
   "cell_type": "code",
   "execution_count": null,
   "id": "438067d4-5007-4d0a-ae12-e53a8d0efac2",
   "metadata": {},
   "outputs": [],
   "source": [
    "import time\n",
    "import keras_cv\n",
    "from tensorflow import keras\n",
    "import matplotlib.pyplot as plt\n",
    "import ssl"
   ]
  },
  {
   "cell_type": "code",
   "execution_count": null,
   "id": "c093c8b7-abeb-4786-b58c-47c1483c2212",
   "metadata": {},
   "outputs": [],
   "source": [
    "ssl._create_default_https_context = ssl._create_unverified_context"
   ]
  },
  {
   "cell_type": "code",
   "execution_count": null,
   "id": "a177abad-2eac-45b9-bd62-7048231bca47",
   "metadata": {},
   "outputs": [],
   "source": [
    "keras.mixed_precision.set_global_policy(\"mixed_float16\")\n",
    "model = keras_cv.models.StableDiffusion(jit_compile=True)"
   ]
  },
  {
   "cell_type": "code",
   "execution_count": null,
   "id": "c5b1b163-07e5-4be4-9879-3c12011d6c62",
   "metadata": {},
   "outputs": [],
   "source": [
    "images = model.text_to_image(\"photograph of an astronaut riding a horse\", batch_size=1)\n",
    "\n",
    "def plot_images(images):\n",
    "    plt.figure(figsize=(20, 20))\n",
    "    for i in range(len(images)):\n",
    "        ax = plt.subplot(1, len(images), i + 1)\n",
    "        plt.imshow(images[i])\n",
    "        plt.axis(\"off\")\n",
    "\n",
    "plot_images(images)"
   ]
  }
 ],
 "metadata": {
  "kernelspec": {
   "display_name": "Python 3 (ipykernel)",
   "language": "python",
   "name": "python3"
  },
  "language_info": {
   "codemirror_mode": {
    "name": "ipython",
    "version": 3
   },
   "file_extension": ".py",
   "mimetype": "text/x-python",
   "name": "python",
   "nbconvert_exporter": "python",
   "pygments_lexer": "ipython3",
   "version": "3.11.0"
  }
 },
 "nbformat": 4,
 "nbformat_minor": 5
}
